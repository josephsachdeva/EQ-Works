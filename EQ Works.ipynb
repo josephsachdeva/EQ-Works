{
 "cells": [
  {
   "cell_type": "code",
   "execution_count": 1,
   "metadata": {},
   "outputs": [],
   "source": [
    "import pandas as pd\n",
    "import numpy as np\n",
    "from datetime import datetime\n",
    "from tqdm import tqdm\n",
    "from math import cos, asin, sqrt\n",
    "\n",
    "import matplotlib.pyplot as plt\n",
    "%matplotlib inline\n",
    "# import seaborn as sns"
   ]
  },
  {
   "cell_type": "code",
   "execution_count": 2,
   "metadata": {},
   "outputs": [],
   "source": [
    "df_sample = pd.read_csv('data/DataSample.csv')\n",
    "df_poi = pd.read_csv('data/POIList.csv')"
   ]
  },
  {
   "cell_type": "code",
   "execution_count": 3,
   "metadata": {},
   "outputs": [
    {
     "data": {
      "text/html": [
       "<div>\n",
       "<style scoped>\n",
       "    .dataframe tbody tr th:only-of-type {\n",
       "        vertical-align: middle;\n",
       "    }\n",
       "\n",
       "    .dataframe tbody tr th {\n",
       "        vertical-align: top;\n",
       "    }\n",
       "\n",
       "    .dataframe thead th {\n",
       "        text-align: right;\n",
       "    }\n",
       "</style>\n",
       "<table border=\"1\" class=\"dataframe\">\n",
       "  <thead>\n",
       "    <tr style=\"text-align: right;\">\n",
       "      <th></th>\n",
       "      <th>_ID</th>\n",
       "      <th>TimeSt</th>\n",
       "      <th>Country</th>\n",
       "      <th>Province</th>\n",
       "      <th>City</th>\n",
       "      <th>Latitude</th>\n",
       "      <th>Longitude</th>\n",
       "    </tr>\n",
       "  </thead>\n",
       "  <tbody>\n",
       "    <tr>\n",
       "      <th>0</th>\n",
       "      <td>4516516</td>\n",
       "      <td>2017-06-21 00:00:00.143</td>\n",
       "      <td>CA</td>\n",
       "      <td>ON</td>\n",
       "      <td>Waterloo</td>\n",
       "      <td>43.49347</td>\n",
       "      <td>-80.49123</td>\n",
       "    </tr>\n",
       "    <tr>\n",
       "      <th>1</th>\n",
       "      <td>4516547</td>\n",
       "      <td>2017-06-21 18:00:00.193</td>\n",
       "      <td>CA</td>\n",
       "      <td>ON</td>\n",
       "      <td>London</td>\n",
       "      <td>42.93990</td>\n",
       "      <td>-81.27090</td>\n",
       "    </tr>\n",
       "    <tr>\n",
       "      <th>2</th>\n",
       "      <td>4516550</td>\n",
       "      <td>2017-06-21 15:00:00.287</td>\n",
       "      <td>CA</td>\n",
       "      <td>ON</td>\n",
       "      <td>Guelph</td>\n",
       "      <td>43.57760</td>\n",
       "      <td>-80.22010</td>\n",
       "    </tr>\n",
       "    <tr>\n",
       "      <th>3</th>\n",
       "      <td>4516600</td>\n",
       "      <td>2017-06-21 15:00:00.307</td>\n",
       "      <td>CA</td>\n",
       "      <td>ON</td>\n",
       "      <td>Stratford</td>\n",
       "      <td>43.37160</td>\n",
       "      <td>-80.97730</td>\n",
       "    </tr>\n",
       "    <tr>\n",
       "      <th>4</th>\n",
       "      <td>4516613</td>\n",
       "      <td>2017-06-21 15:00:00.497</td>\n",
       "      <td>CA</td>\n",
       "      <td>ON</td>\n",
       "      <td>Stratford</td>\n",
       "      <td>43.37160</td>\n",
       "      <td>-80.97730</td>\n",
       "    </tr>\n",
       "  </tbody>\n",
       "</table>\n",
       "</div>"
      ],
      "text/plain": [
       "       _ID                   TimeSt Country Province       City  Latitude  \\\n",
       "0  4516516  2017-06-21 00:00:00.143      CA       ON   Waterloo  43.49347   \n",
       "1  4516547  2017-06-21 18:00:00.193      CA       ON     London  42.93990   \n",
       "2  4516550  2017-06-21 15:00:00.287      CA       ON     Guelph  43.57760   \n",
       "3  4516600  2017-06-21 15:00:00.307      CA       ON  Stratford  43.37160   \n",
       "4  4516613  2017-06-21 15:00:00.497      CA       ON  Stratford  43.37160   \n",
       "\n",
       "   Longitude  \n",
       "0  -80.49123  \n",
       "1  -81.27090  \n",
       "2  -80.22010  \n",
       "3  -80.97730  \n",
       "4  -80.97730  "
      ]
     },
     "execution_count": 3,
     "metadata": {},
     "output_type": "execute_result"
    }
   ],
   "source": [
    "df_sample.head()"
   ]
  },
  {
   "cell_type": "code",
   "execution_count": 4,
   "metadata": {},
   "outputs": [
    {
     "data": {
      "text/html": [
       "<div>\n",
       "<style scoped>\n",
       "    .dataframe tbody tr th:only-of-type {\n",
       "        vertical-align: middle;\n",
       "    }\n",
       "\n",
       "    .dataframe tbody tr th {\n",
       "        vertical-align: top;\n",
       "    }\n",
       "\n",
       "    .dataframe thead th {\n",
       "        text-align: right;\n",
       "    }\n",
       "</style>\n",
       "<table border=\"1\" class=\"dataframe\">\n",
       "  <thead>\n",
       "    <tr style=\"text-align: right;\">\n",
       "      <th></th>\n",
       "      <th>POIID</th>\n",
       "      <th>Latitude</th>\n",
       "      <th>Longitude</th>\n",
       "    </tr>\n",
       "  </thead>\n",
       "  <tbody>\n",
       "    <tr>\n",
       "      <th>0</th>\n",
       "      <td>POI1</td>\n",
       "      <td>53.546167</td>\n",
       "      <td>-113.485734</td>\n",
       "    </tr>\n",
       "    <tr>\n",
       "      <th>1</th>\n",
       "      <td>POI2</td>\n",
       "      <td>53.546167</td>\n",
       "      <td>-113.485734</td>\n",
       "    </tr>\n",
       "    <tr>\n",
       "      <th>2</th>\n",
       "      <td>POI3</td>\n",
       "      <td>45.521629</td>\n",
       "      <td>-73.566024</td>\n",
       "    </tr>\n",
       "    <tr>\n",
       "      <th>3</th>\n",
       "      <td>POI4</td>\n",
       "      <td>45.224830</td>\n",
       "      <td>-63.232729</td>\n",
       "    </tr>\n",
       "  </tbody>\n",
       "</table>\n",
       "</div>"
      ],
      "text/plain": [
       "  POIID   Latitude   Longitude\n",
       "0  POI1  53.546167 -113.485734\n",
       "1  POI2  53.546167 -113.485734\n",
       "2  POI3  45.521629  -73.566024\n",
       "3  POI4  45.224830  -63.232729"
      ]
     },
     "execution_count": 4,
     "metadata": {},
     "output_type": "execute_result"
    }
   ],
   "source": [
    "df_poi.head()"
   ]
  },
  {
   "cell_type": "code",
   "execution_count": 5,
   "metadata": {},
   "outputs": [
    {
     "data": {
      "text/plain": [
       "22025"
      ]
     },
     "execution_count": 5,
     "metadata": {},
     "output_type": "execute_result"
    }
   ],
   "source": [
    "len(df_sample)"
   ]
  },
  {
   "cell_type": "code",
   "execution_count": 6,
   "metadata": {},
   "outputs": [
    {
     "data": {
      "text/plain": [
       "22025"
      ]
     },
     "execution_count": 6,
     "metadata": {},
     "output_type": "execute_result"
    }
   ],
   "source": [
    "len(df_sample.drop_duplicates())"
   ]
  },
  {
   "cell_type": "code",
   "execution_count": 7,
   "metadata": {},
   "outputs": [],
   "source": [
    "# df_sample = df_sample.sort_values(by=[' TimeSt'])"
   ]
  },
  {
   "cell_type": "code",
   "execution_count": 8,
   "metadata": {},
   "outputs": [
    {
     "data": {
      "text/html": [
       "<div>\n",
       "<style scoped>\n",
       "    .dataframe tbody tr th:only-of-type {\n",
       "        vertical-align: middle;\n",
       "    }\n",
       "\n",
       "    .dataframe tbody tr th {\n",
       "        vertical-align: top;\n",
       "    }\n",
       "\n",
       "    .dataframe thead th {\n",
       "        text-align: right;\n",
       "    }\n",
       "</style>\n",
       "<table border=\"1\" class=\"dataframe\">\n",
       "  <thead>\n",
       "    <tr style=\"text-align: right;\">\n",
       "      <th></th>\n",
       "      <th>_ID</th>\n",
       "      <th>TimeSt</th>\n",
       "      <th>Country</th>\n",
       "      <th>Province</th>\n",
       "      <th>City</th>\n",
       "      <th>Latitude</th>\n",
       "      <th>Longitude</th>\n",
       "    </tr>\n",
       "  </thead>\n",
       "  <tbody>\n",
       "    <tr>\n",
       "      <th>0</th>\n",
       "      <td>4516516</td>\n",
       "      <td>2017-06-21 00:00:00.143</td>\n",
       "      <td>CA</td>\n",
       "      <td>ON</td>\n",
       "      <td>Waterloo</td>\n",
       "      <td>43.49347</td>\n",
       "      <td>-80.49123</td>\n",
       "    </tr>\n",
       "    <tr>\n",
       "      <th>1</th>\n",
       "      <td>4516547</td>\n",
       "      <td>2017-06-21 18:00:00.193</td>\n",
       "      <td>CA</td>\n",
       "      <td>ON</td>\n",
       "      <td>London</td>\n",
       "      <td>42.93990</td>\n",
       "      <td>-81.27090</td>\n",
       "    </tr>\n",
       "    <tr>\n",
       "      <th>2</th>\n",
       "      <td>4516550</td>\n",
       "      <td>2017-06-21 15:00:00.287</td>\n",
       "      <td>CA</td>\n",
       "      <td>ON</td>\n",
       "      <td>Guelph</td>\n",
       "      <td>43.57760</td>\n",
       "      <td>-80.22010</td>\n",
       "    </tr>\n",
       "    <tr>\n",
       "      <th>3</th>\n",
       "      <td>4516600</td>\n",
       "      <td>2017-06-21 15:00:00.307</td>\n",
       "      <td>CA</td>\n",
       "      <td>ON</td>\n",
       "      <td>Stratford</td>\n",
       "      <td>43.37160</td>\n",
       "      <td>-80.97730</td>\n",
       "    </tr>\n",
       "    <tr>\n",
       "      <th>4</th>\n",
       "      <td>4516613</td>\n",
       "      <td>2017-06-21 15:00:00.497</td>\n",
       "      <td>CA</td>\n",
       "      <td>ON</td>\n",
       "      <td>Stratford</td>\n",
       "      <td>43.37160</td>\n",
       "      <td>-80.97730</td>\n",
       "    </tr>\n",
       "  </tbody>\n",
       "</table>\n",
       "</div>"
      ],
      "text/plain": [
       "       _ID                   TimeSt Country Province       City  Latitude  \\\n",
       "0  4516516  2017-06-21 00:00:00.143      CA       ON   Waterloo  43.49347   \n",
       "1  4516547  2017-06-21 18:00:00.193      CA       ON     London  42.93990   \n",
       "2  4516550  2017-06-21 15:00:00.287      CA       ON     Guelph  43.57760   \n",
       "3  4516600  2017-06-21 15:00:00.307      CA       ON  Stratford  43.37160   \n",
       "4  4516613  2017-06-21 15:00:00.497      CA       ON  Stratford  43.37160   \n",
       "\n",
       "   Longitude  \n",
       "0  -80.49123  \n",
       "1  -81.27090  \n",
       "2  -80.22010  \n",
       "3  -80.97730  \n",
       "4  -80.97730  "
      ]
     },
     "execution_count": 8,
     "metadata": {},
     "output_type": "execute_result"
    }
   ],
   "source": [
    "df_sample.head()"
   ]
  },
  {
   "cell_type": "code",
   "execution_count": 9,
   "metadata": {},
   "outputs": [
    {
     "data": {
      "text/plain": [
       "(CA    22025\n",
       " Name: Country, dtype: int64,\n",
       " ON    9321\n",
       " AB    8554\n",
       " QC    1534\n",
       " BC     881\n",
       " SK     868\n",
       " MB     346\n",
       " NB     249\n",
       " NS     200\n",
       " NL      63\n",
       " NT       5\n",
       " YT       3\n",
       " PE       1\n",
       " Name: Province, dtype: int64)"
      ]
     },
     "execution_count": 9,
     "metadata": {},
     "output_type": "execute_result"
    }
   ],
   "source": [
    "df_sample.Country.value_counts(), df_sample.Province.value_counts()"
   ]
  },
  {
   "cell_type": "code",
   "execution_count": 10,
   "metadata": {},
   "outputs": [
    {
     "data": {
      "text/plain": [
       "(1498003200.143, '2017-06-21 00:00:00.143')"
      ]
     },
     "execution_count": 10,
     "metadata": {},
     "output_type": "execute_result"
    }
   ],
   "source": [
    "pd.to_datetime(df_sample[' TimeSt'][0]).timestamp(), df_sample[' TimeSt'][0]"
   ]
  },
  {
   "cell_type": "code",
   "execution_count": 11,
   "metadata": {},
   "outputs": [],
   "source": [
    "df_sample['timestamp'] = [pd.to_datetime(df_sample[' TimeSt'][i]).timestamp() for i in range(0, len(df_sample))]"
   ]
  },
  {
   "cell_type": "code",
   "execution_count": 12,
   "metadata": {},
   "outputs": [
    {
     "data": {
      "text/html": [
       "<div>\n",
       "<style scoped>\n",
       "    .dataframe tbody tr th:only-of-type {\n",
       "        vertical-align: middle;\n",
       "    }\n",
       "\n",
       "    .dataframe tbody tr th {\n",
       "        vertical-align: top;\n",
       "    }\n",
       "\n",
       "    .dataframe thead th {\n",
       "        text-align: right;\n",
       "    }\n",
       "</style>\n",
       "<table border=\"1\" class=\"dataframe\">\n",
       "  <thead>\n",
       "    <tr style=\"text-align: right;\">\n",
       "      <th></th>\n",
       "      <th>_ID</th>\n",
       "      <th>TimeSt</th>\n",
       "      <th>Country</th>\n",
       "      <th>Province</th>\n",
       "      <th>City</th>\n",
       "      <th>Latitude</th>\n",
       "      <th>Longitude</th>\n",
       "      <th>timestamp</th>\n",
       "    </tr>\n",
       "  </thead>\n",
       "  <tbody>\n",
       "    <tr>\n",
       "      <th>0</th>\n",
       "      <td>4516516</td>\n",
       "      <td>2017-06-21 00:00:00.143</td>\n",
       "      <td>CA</td>\n",
       "      <td>ON</td>\n",
       "      <td>Waterloo</td>\n",
       "      <td>43.49347</td>\n",
       "      <td>-80.49123</td>\n",
       "      <td>1.498003e+09</td>\n",
       "    </tr>\n",
       "    <tr>\n",
       "      <th>1</th>\n",
       "      <td>4516547</td>\n",
       "      <td>2017-06-21 18:00:00.193</td>\n",
       "      <td>CA</td>\n",
       "      <td>ON</td>\n",
       "      <td>London</td>\n",
       "      <td>42.93990</td>\n",
       "      <td>-81.27090</td>\n",
       "      <td>1.498068e+09</td>\n",
       "    </tr>\n",
       "    <tr>\n",
       "      <th>2</th>\n",
       "      <td>4516550</td>\n",
       "      <td>2017-06-21 15:00:00.287</td>\n",
       "      <td>CA</td>\n",
       "      <td>ON</td>\n",
       "      <td>Guelph</td>\n",
       "      <td>43.57760</td>\n",
       "      <td>-80.22010</td>\n",
       "      <td>1.498057e+09</td>\n",
       "    </tr>\n",
       "    <tr>\n",
       "      <th>3</th>\n",
       "      <td>4516600</td>\n",
       "      <td>2017-06-21 15:00:00.307</td>\n",
       "      <td>CA</td>\n",
       "      <td>ON</td>\n",
       "      <td>Stratford</td>\n",
       "      <td>43.37160</td>\n",
       "      <td>-80.97730</td>\n",
       "      <td>1.498057e+09</td>\n",
       "    </tr>\n",
       "    <tr>\n",
       "      <th>4</th>\n",
       "      <td>4516613</td>\n",
       "      <td>2017-06-21 15:00:00.497</td>\n",
       "      <td>CA</td>\n",
       "      <td>ON</td>\n",
       "      <td>Stratford</td>\n",
       "      <td>43.37160</td>\n",
       "      <td>-80.97730</td>\n",
       "      <td>1.498057e+09</td>\n",
       "    </tr>\n",
       "  </tbody>\n",
       "</table>\n",
       "</div>"
      ],
      "text/plain": [
       "       _ID                   TimeSt Country Province       City  Latitude  \\\n",
       "0  4516516  2017-06-21 00:00:00.143      CA       ON   Waterloo  43.49347   \n",
       "1  4516547  2017-06-21 18:00:00.193      CA       ON     London  42.93990   \n",
       "2  4516550  2017-06-21 15:00:00.287      CA       ON     Guelph  43.57760   \n",
       "3  4516600  2017-06-21 15:00:00.307      CA       ON  Stratford  43.37160   \n",
       "4  4516613  2017-06-21 15:00:00.497      CA       ON  Stratford  43.37160   \n",
       "\n",
       "   Longitude     timestamp  \n",
       "0  -80.49123  1.498003e+09  \n",
       "1  -81.27090  1.498068e+09  \n",
       "2  -80.22010  1.498057e+09  \n",
       "3  -80.97730  1.498057e+09  \n",
       "4  -80.97730  1.498057e+09  "
      ]
     },
     "execution_count": 12,
     "metadata": {},
     "output_type": "execute_result"
    }
   ],
   "source": [
    "df_sample.head()"
   ]
  },
  {
   "cell_type": "code",
   "execution_count": 13,
   "metadata": {},
   "outputs": [
    {
     "data": {
      "text/plain": [
       "0"
      ]
     },
     "execution_count": 13,
     "metadata": {},
     "output_type": "execute_result"
    }
   ],
   "source": [
    "df_sample.City.isna().sum()"
   ]
  },
  {
   "cell_type": "code",
   "execution_count": 14,
   "metadata": {},
   "outputs": [
    {
     "data": {
      "text/plain": [
       "_ID                          4516516\n",
       " TimeSt      2017-06-21 00:00:00.143\n",
       "Country                           CA\n",
       "Province                          ON\n",
       "City                        Waterloo\n",
       "Latitude                     43.4935\n",
       "Longitude                   -80.4912\n",
       "timestamp                  1.498e+09\n",
       "Name: 0, dtype: object"
      ]
     },
     "execution_count": 14,
     "metadata": {},
     "output_type": "execute_result"
    }
   ],
   "source": [
    "# df_sample.timestamp[0], \n",
    "df_sample.iloc[0]"
   ]
  },
  {
   "cell_type": "code",
   "execution_count": 15,
   "metadata": {},
   "outputs": [],
   "source": [
    "# df_sample['timestamp'] - df_sample['timestamp'][0]"
   ]
  },
  {
   "cell_type": "code",
   "execution_count": 16,
   "metadata": {},
   "outputs": [
    {
     "data": {
      "text/plain": [
       "array(['Waterloo', 'London', 'Guelph', ..., 'Whitby', 'Oakville',\n",
       "       'Oakville'], dtype=object)"
      ]
     },
     "execution_count": 16,
     "metadata": {},
     "output_type": "execute_result"
    }
   ],
   "source": [
    "cities = df_sample.City.values\n",
    "cities"
   ]
  },
  {
   "cell_type": "code",
   "execution_count": 17,
   "metadata": {},
   "outputs": [],
   "source": [
    "# df_sample.drop()\n",
    "# df_sample['timestamp'][0]"
   ]
  },
  {
   "cell_type": "code",
   "execution_count": 18,
   "metadata": {},
   "outputs": [
    {
     "data": {
      "text/html": [
       "<div>\n",
       "<style scoped>\n",
       "    .dataframe tbody tr th:only-of-type {\n",
       "        vertical-align: middle;\n",
       "    }\n",
       "\n",
       "    .dataframe tbody tr th {\n",
       "        vertical-align: top;\n",
       "    }\n",
       "\n",
       "    .dataframe thead th {\n",
       "        text-align: right;\n",
       "    }\n",
       "</style>\n",
       "<table border=\"1\" class=\"dataframe\">\n",
       "  <thead>\n",
       "    <tr style=\"text-align: right;\">\n",
       "      <th></th>\n",
       "      <th>_ID</th>\n",
       "      <th>TimeSt</th>\n",
       "      <th>Country</th>\n",
       "      <th>Province</th>\n",
       "      <th>City</th>\n",
       "      <th>Latitude</th>\n",
       "      <th>Longitude</th>\n",
       "      <th>timestamp</th>\n",
       "    </tr>\n",
       "  </thead>\n",
       "  <tbody>\n",
       "    <tr>\n",
       "      <th>2419</th>\n",
       "      <td>4638187</td>\n",
       "      <td>2017-06-21 19:06:48.230</td>\n",
       "      <td>CA</td>\n",
       "      <td>ON</td>\n",
       "      <td>Kenora</td>\n",
       "      <td>49.7573</td>\n",
       "      <td>-94.3427</td>\n",
       "      <td>1.498072e+09</td>\n",
       "    </tr>\n",
       "    <tr>\n",
       "      <th>15721</th>\n",
       "      <td>5303037</td>\n",
       "      <td>2017-06-21 16:55:29.790</td>\n",
       "      <td>CA</td>\n",
       "      <td>ON</td>\n",
       "      <td>Kenora</td>\n",
       "      <td>49.7828</td>\n",
       "      <td>-94.4411</td>\n",
       "      <td>1.498064e+09</td>\n",
       "    </tr>\n",
       "    <tr>\n",
       "      <th>15722</th>\n",
       "      <td>5303129</td>\n",
       "      <td>2017-06-21 08:55:29.850</td>\n",
       "      <td>CA</td>\n",
       "      <td>ON</td>\n",
       "      <td>Kenora</td>\n",
       "      <td>49.7828</td>\n",
       "      <td>-94.4411</td>\n",
       "      <td>1.498035e+09</td>\n",
       "    </tr>\n",
       "    <tr>\n",
       "      <th>15833</th>\n",
       "      <td>5308611</td>\n",
       "      <td>2017-06-21 18:55:44.787</td>\n",
       "      <td>CA</td>\n",
       "      <td>ON</td>\n",
       "      <td>Kenora</td>\n",
       "      <td>49.7573</td>\n",
       "      <td>-94.3427</td>\n",
       "      <td>1.498071e+09</td>\n",
       "    </tr>\n",
       "    <tr>\n",
       "      <th>16990</th>\n",
       "      <td>5367138</td>\n",
       "      <td>2017-06-21 22:59:56.167</td>\n",
       "      <td>CA</td>\n",
       "      <td>ON</td>\n",
       "      <td>Kenora</td>\n",
       "      <td>49.7828</td>\n",
       "      <td>-94.4411</td>\n",
       "      <td>1.498086e+09</td>\n",
       "    </tr>\n",
       "  </tbody>\n",
       "</table>\n",
       "</div>"
      ],
      "text/plain": [
       "           _ID                   TimeSt Country Province    City  Latitude  \\\n",
       "2419   4638187  2017-06-21 19:06:48.230      CA       ON  Kenora   49.7573   \n",
       "15721  5303037  2017-06-21 16:55:29.790      CA       ON  Kenora   49.7828   \n",
       "15722  5303129  2017-06-21 08:55:29.850      CA       ON  Kenora   49.7828   \n",
       "15833  5308611  2017-06-21 18:55:44.787      CA       ON  Kenora   49.7573   \n",
       "16990  5367138  2017-06-21 22:59:56.167      CA       ON  Kenora   49.7828   \n",
       "\n",
       "       Longitude     timestamp  \n",
       "2419    -94.3427  1.498072e+09  \n",
       "15721   -94.4411  1.498064e+09  \n",
       "15722   -94.4411  1.498035e+09  \n",
       "15833   -94.3427  1.498071e+09  \n",
       "16990   -94.4411  1.498086e+09  "
      ]
     },
     "execution_count": 18,
     "metadata": {},
     "output_type": "execute_result"
    }
   ],
   "source": [
    "df_sample[df_sample['City'] == 'Kenora']"
   ]
  },
  {
   "cell_type": "markdown",
   "metadata": {},
   "source": [
    "# Cleanup"
   ]
  },
  {
   "cell_type": "code",
   "execution_count": 19,
   "metadata": {},
   "outputs": [],
   "source": [
    "def find_similar_timestamps(df):\n",
    "    df = df.sort_values(by = ['timestamp'])\n",
    "    df_non_sus = pd.DataFrame(columns=df.columns)\n",
    "    df_sus = pd.DataFrame(columns=df.columns)\n",
    "    \n",
    "    df['timedifference'] = df['timestamp'] - df.iloc[0]['timestamp']\n",
    "    base_request = df.iloc[0]\n",
    "    df = df.iloc[1:]\n",
    "    \n",
    "    df_non_sus = df[df['timedifference'] > 100] #100 because it is in seconds, we can change it\n",
    "    df_non_sus.append(base_request)\n",
    "    \n",
    "    df_sus = df[df['timedifference'] <= 100]\n",
    "    \n",
    "#     print(len(df_sus), len(df_non_sus), city)\n",
    "    \n",
    "    return df_non_sus, df_sus"
   ]
  },
  {
   "cell_type": "code",
   "execution_count": 20,
   "metadata": {},
   "outputs": [],
   "source": [
    "cities = df_sample['City'].unique()\n",
    "# df_sample[df_sample['City'] == 'Waterloo']"
   ]
  },
  {
   "cell_type": "code",
   "execution_count": 21,
   "metadata": {},
   "outputs": [
    {
     "data": {
      "text/plain": [
       "656"
      ]
     },
     "execution_count": 21,
     "metadata": {},
     "output_type": "execute_result"
    }
   ],
   "source": [
    "len(cities)"
   ]
  },
  {
   "cell_type": "code",
   "execution_count": 22,
   "metadata": {},
   "outputs": [
    {
     "name": "stderr",
     "output_type": "stream",
     "text": [
      "100%|██████████| 656/656 [00:11<00:00, 56.18it/s] \n"
     ]
    }
   ],
   "source": [
    "df_sus_final = pd.DataFrame(columns=df_sample.columns)\n",
    "df_non_sus_final = pd.DataFrame(columns=df_sample.columns)\n",
    "# print(len(df_sus_final), len(df_non_sus_final))\n",
    "for city in tqdm(cities):\n",
    "#     print(city)\n",
    "    \n",
    "    if len(df_sample[df_sample['City'] == city]) > 1:\n",
    "        df_non_sus, df_sus = find_similar_timestamps(df_sample[df_sample['City'] == city])\n",
    "\n",
    "#         df_sus_final.append(df_sus, ignore_index=True)\n",
    "#         df_non_sus.append(df_non_sus, ignore_index=True)\n",
    "        df_sus_final = pd.concat([df_sus_final, df_sus], ignore_index=True)\n",
    "        df_non_sus_final = pd.concat([df_non_sus_final, df_non_sus], ignore_index=True)\n",
    "        \n",
    "#         print(len(df_sus_final), len(df_non_sus_final))\n",
    "    "
   ]
  },
  {
   "cell_type": "code",
   "execution_count": 23,
   "metadata": {},
   "outputs": [
    {
     "data": {
      "text/plain": [
       "21244"
      ]
     },
     "execution_count": 23,
     "metadata": {},
     "output_type": "execute_result"
    }
   ],
   "source": [
    "len(df_non_sus_final)"
   ]
  },
  {
   "cell_type": "code",
   "execution_count": 24,
   "metadata": {},
   "outputs": [
    {
     "data": {
      "text/plain": [
       "125"
      ]
     },
     "execution_count": 24,
     "metadata": {},
     "output_type": "execute_result"
    }
   ],
   "source": [
    "len(df_sus_final)"
   ]
  },
  {
   "cell_type": "markdown",
   "metadata": {},
   "source": [
    "# Find the POI (Label)"
   ]
  },
  {
   "cell_type": "code",
   "execution_count": 25,
   "metadata": {},
   "outputs": [],
   "source": [
    "def distance(lat1, lon1, lat2, lon2):\n",
    "    p = 0.017453292519943295\n",
    "    a = 0.5 - cos((lat2-lat1)*p)/2 + cos(lat1*p)*cos(lat2*p) * (1-cos((lon2-lon1)*p)) / 2\n",
    "    return 12742 * asin(sqrt(a))\n",
    "\n",
    "def closest(data, v):\n",
    "    return min(data, key=lambda p: distance(v['Latitude'],v['Longitude'],p['Latitude'],p['Longitude']))"
   ]
  },
  {
   "cell_type": "code",
   "execution_count": 26,
   "metadata": {},
   "outputs": [
    {
     "name": "stdout",
     "output_type": "stream",
     "text": [
      "{'POIID': 'POI3', 'Latitude': 45.521629, 'Longitude': -73.566024}\n"
     ]
    }
   ],
   "source": [
    "# Reference - https://stackoverflow.com/questions/41336756/find-the-closest-latitude-and-longitude/41337005\n",
    "\n",
    "\n",
    "\n",
    "\n",
    "tempDataList = [{\"POIID\":\"POI1\",\"Latitude\":53.546167,\"Longitude\":-113.485734},\n",
    "                {\"POIID\":\"POI2\",\"Latitude\":53.546167,\"Longitude\":-113.485734},\n",
    "                {\"POIID\":\"POI3\",\"Latitude\":45.521629,\"Longitude\":-73.566024},\n",
    "                {\"POIID\":\"POI4\",\"Latitude\":45.22483,\"Longitude\":-63.232729}]\n",
    "\n",
    "v = {'Latitude': 43.4634, 'Longitude': -80.5201}\n",
    "print(closest(tempDataList, v))"
   ]
  },
  {
   "cell_type": "code",
   "execution_count": 27,
   "metadata": {},
   "outputs": [],
   "source": [
    "def get_closest_POI(s):\n",
    "    \n",
    "    return closest(tempDataList, s)"
   ]
  },
  {
   "cell_type": "code",
   "execution_count": 29,
   "metadata": {},
   "outputs": [],
   "source": [
    "df_non_sus_final['POIID'] = ''"
   ]
  },
  {
   "cell_type": "code",
   "execution_count": null,
   "metadata": {},
   "outputs": [],
   "source": []
  },
  {
   "cell_type": "code",
   "execution_count": 30,
   "metadata": {},
   "outputs": [],
   "source": [
    "# df_non_sus_final['LatLong'][0]\n",
    "# df_non_sus_final.drop(['POI'], axis=1, inplace=True)"
   ]
  },
  {
   "cell_type": "code",
   "execution_count": 31,
   "metadata": {},
   "outputs": [
    {
     "name": "stderr",
     "output_type": "stream",
     "text": [
      "100%|██████████| 21244/21244 [00:37<00:00, 571.25it/s]\n"
     ]
    }
   ],
   "source": [
    "for i in tqdm(range(len(df_non_sus_final))):\n",
    "    s = {\"Latitude\": df_non_sus_final.iloc[i]['Latitude'], \"Longitude\": df_non_sus_final.iloc[i]['Longitude']}\n",
    "#     print(s)\n",
    "    poiid = closest(tempDataList, s)\n",
    "    df_non_sus_final.loc[i, 'POIID'] = poiid['POIID']\n",
    "    \n",
    "    df_non_sus_final.loc[i, 'distance_bw_poi'] = distance(s['Latitude'],s['Longitude'],poiid['Latitude'],poiid['Longitude']) "
   ]
  },
  {
   "cell_type": "code",
   "execution_count": 32,
   "metadata": {},
   "outputs": [
    {
     "data": {
      "text/html": [
       "<div>\n",
       "<style scoped>\n",
       "    .dataframe tbody tr th:only-of-type {\n",
       "        vertical-align: middle;\n",
       "    }\n",
       "\n",
       "    .dataframe tbody tr th {\n",
       "        vertical-align: top;\n",
       "    }\n",
       "\n",
       "    .dataframe thead th {\n",
       "        text-align: right;\n",
       "    }\n",
       "</style>\n",
       "<table border=\"1\" class=\"dataframe\">\n",
       "  <thead>\n",
       "    <tr style=\"text-align: right;\">\n",
       "      <th></th>\n",
       "      <th>_ID</th>\n",
       "      <th>TimeSt</th>\n",
       "      <th>Country</th>\n",
       "      <th>Province</th>\n",
       "      <th>City</th>\n",
       "      <th>Latitude</th>\n",
       "      <th>Longitude</th>\n",
       "      <th>timestamp</th>\n",
       "      <th>timedifference</th>\n",
       "      <th>POIID</th>\n",
       "      <th>distance_bw_poi</th>\n",
       "    </tr>\n",
       "  </thead>\n",
       "  <tbody>\n",
       "    <tr>\n",
       "      <th>0</th>\n",
       "      <td>5044035</td>\n",
       "      <td>2017-06-21 00:36:58.600</td>\n",
       "      <td>CA</td>\n",
       "      <td>ON</td>\n",
       "      <td>Waterloo</td>\n",
       "      <td>43.4717</td>\n",
       "      <td>-80.5127</td>\n",
       "      <td>1.498005e+09</td>\n",
       "      <td>2218.457</td>\n",
       "      <td>POI3</td>\n",
       "      <td>596.001489</td>\n",
       "    </tr>\n",
       "    <tr>\n",
       "      <th>1</th>\n",
       "      <td>5210735</td>\n",
       "      <td>2017-06-21 00:48:30.550</td>\n",
       "      <td>CA</td>\n",
       "      <td>ON</td>\n",
       "      <td>Waterloo</td>\n",
       "      <td>43.4737</td>\n",
       "      <td>-80.5309</td>\n",
       "      <td>1.498006e+09</td>\n",
       "      <td>2910.407</td>\n",
       "      <td>POI3</td>\n",
       "      <td>597.240651</td>\n",
       "    </tr>\n",
       "    <tr>\n",
       "      <th>2</th>\n",
       "      <td>4550872</td>\n",
       "      <td>2017-06-21 01:01:34.483</td>\n",
       "      <td>CA</td>\n",
       "      <td>ON</td>\n",
       "      <td>Waterloo</td>\n",
       "      <td>43.4737</td>\n",
       "      <td>-80.5309</td>\n",
       "      <td>1.498007e+09</td>\n",
       "      <td>3694.340</td>\n",
       "      <td>POI3</td>\n",
       "      <td>597.240651</td>\n",
       "    </tr>\n",
       "    <tr>\n",
       "      <th>3</th>\n",
       "      <td>5443472</td>\n",
       "      <td>2017-06-21 01:07:31.170</td>\n",
       "      <td>CA</td>\n",
       "      <td>ON</td>\n",
       "      <td>Waterloo</td>\n",
       "      <td>43.4717</td>\n",
       "      <td>-80.5127</td>\n",
       "      <td>1.498007e+09</td>\n",
       "      <td>4051.027</td>\n",
       "      <td>POI3</td>\n",
       "      <td>596.001489</td>\n",
       "    </tr>\n",
       "    <tr>\n",
       "      <th>4</th>\n",
       "      <td>4548869</td>\n",
       "      <td>2017-06-21 02:01:31.370</td>\n",
       "      <td>CA</td>\n",
       "      <td>ON</td>\n",
       "      <td>Waterloo</td>\n",
       "      <td>43.4634</td>\n",
       "      <td>-80.5201</td>\n",
       "      <td>1.498010e+09</td>\n",
       "      <td>7291.227</td>\n",
       "      <td>POI3</td>\n",
       "      <td>596.931914</td>\n",
       "    </tr>\n",
       "  </tbody>\n",
       "</table>\n",
       "</div>"
      ],
      "text/plain": [
       "       _ID                   TimeSt Country Province      City  Latitude  \\\n",
       "0  5044035  2017-06-21 00:36:58.600      CA       ON  Waterloo   43.4717   \n",
       "1  5210735  2017-06-21 00:48:30.550      CA       ON  Waterloo   43.4737   \n",
       "2  4550872  2017-06-21 01:01:34.483      CA       ON  Waterloo   43.4737   \n",
       "3  5443472  2017-06-21 01:07:31.170      CA       ON  Waterloo   43.4717   \n",
       "4  4548869  2017-06-21 02:01:31.370      CA       ON  Waterloo   43.4634   \n",
       "\n",
       "   Longitude     timestamp  timedifference POIID  distance_bw_poi  \n",
       "0   -80.5127  1.498005e+09        2218.457  POI3       596.001489  \n",
       "1   -80.5309  1.498006e+09        2910.407  POI3       597.240651  \n",
       "2   -80.5309  1.498007e+09        3694.340  POI3       597.240651  \n",
       "3   -80.5127  1.498007e+09        4051.027  POI3       596.001489  \n",
       "4   -80.5201  1.498010e+09        7291.227  POI3       596.931914  "
      ]
     },
     "execution_count": 32,
     "metadata": {},
     "output_type": "execute_result"
    }
   ],
   "source": [
    "df_non_sus_final.head()"
   ]
  },
  {
   "cell_type": "code",
   "execution_count": 33,
   "metadata": {},
   "outputs": [
    {
     "data": {
      "text/plain": [
       "POI3    10423\n",
       "POI1    10369\n",
       "POI4      452\n",
       "Name: POIID, dtype: int64"
      ]
     },
     "execution_count": 33,
     "metadata": {},
     "output_type": "execute_result"
    }
   ],
   "source": [
    "df_non_sus_final.POIID.value_counts()"
   ]
  },
  {
   "cell_type": "code",
   "execution_count": 34,
   "metadata": {},
   "outputs": [],
   "source": [
    "# df_poi.to_json(orient='records')\n",
    "df_non_sus_final['POIID'] = df_non_sus_final['POIID'].astype(object)\n",
    "df_poi['POIID'] = df_poi['POIID'].astype(object) "
   ]
  },
  {
   "cell_type": "code",
   "execution_count": 35,
   "metadata": {},
   "outputs": [
    {
     "data": {
      "text/html": [
       "<div>\n",
       "<style scoped>\n",
       "    .dataframe tbody tr th:only-of-type {\n",
       "        vertical-align: middle;\n",
       "    }\n",
       "\n",
       "    .dataframe tbody tr th {\n",
       "        vertical-align: top;\n",
       "    }\n",
       "\n",
       "    .dataframe thead th {\n",
       "        text-align: right;\n",
       "    }\n",
       "</style>\n",
       "<table border=\"1\" class=\"dataframe\">\n",
       "  <thead>\n",
       "    <tr style=\"text-align: right;\">\n",
       "      <th></th>\n",
       "      <th>POIID</th>\n",
       "      <th>Latitude</th>\n",
       "      <th>Longitude</th>\n",
       "    </tr>\n",
       "  </thead>\n",
       "  <tbody>\n",
       "    <tr>\n",
       "      <th>0</th>\n",
       "      <td>POI1</td>\n",
       "      <td>53.546167</td>\n",
       "      <td>-113.485734</td>\n",
       "    </tr>\n",
       "    <tr>\n",
       "      <th>1</th>\n",
       "      <td>POI2</td>\n",
       "      <td>53.546167</td>\n",
       "      <td>-113.485734</td>\n",
       "    </tr>\n",
       "    <tr>\n",
       "      <th>2</th>\n",
       "      <td>POI3</td>\n",
       "      <td>45.521629</td>\n",
       "      <td>-73.566024</td>\n",
       "    </tr>\n",
       "    <tr>\n",
       "      <th>3</th>\n",
       "      <td>POI4</td>\n",
       "      <td>45.224830</td>\n",
       "      <td>-63.232729</td>\n",
       "    </tr>\n",
       "  </tbody>\n",
       "</table>\n",
       "</div>"
      ],
      "text/plain": [
       "  POIID   Latitude   Longitude\n",
       "0  POI1  53.546167 -113.485734\n",
       "1  POI2  53.546167 -113.485734\n",
       "2  POI3  45.521629  -73.566024\n",
       "3  POI4  45.224830  -63.232729"
      ]
     },
     "execution_count": 35,
     "metadata": {},
     "output_type": "execute_result"
    }
   ],
   "source": [
    "df_poi.head()"
   ]
  },
  {
   "cell_type": "code",
   "execution_count": 36,
   "metadata": {},
   "outputs": [],
   "source": [
    "df_poi.rename(columns={\"Longitude\": \"Longitude_poi\", \" Latitude\": \"Latitude_poi\"}, inplace=True)"
   ]
  },
  {
   "cell_type": "markdown",
   "metadata": {},
   "source": [
    "# Analysis"
   ]
  },
  {
   "cell_type": "code",
   "execution_count": 41,
   "metadata": {},
   "outputs": [],
   "source": [
    "df_final = df_non_sus_final.merge(df_poi, on='POIID', suffixes=('_x', '_y'))"
   ]
  },
  {
   "cell_type": "code",
   "execution_count": null,
   "metadata": {},
   "outputs": [],
   "source": []
  },
  {
   "cell_type": "code",
   "execution_count": 42,
   "metadata": {},
   "outputs": [
    {
     "data": {
      "text/html": [
       "<div>\n",
       "<style scoped>\n",
       "    .dataframe tbody tr th:only-of-type {\n",
       "        vertical-align: middle;\n",
       "    }\n",
       "\n",
       "    .dataframe tbody tr th {\n",
       "        vertical-align: top;\n",
       "    }\n",
       "\n",
       "    .dataframe thead th {\n",
       "        text-align: right;\n",
       "    }\n",
       "</style>\n",
       "<table border=\"1\" class=\"dataframe\">\n",
       "  <thead>\n",
       "    <tr style=\"text-align: right;\">\n",
       "      <th></th>\n",
       "      <th>_ID</th>\n",
       "      <th>TimeSt</th>\n",
       "      <th>Country</th>\n",
       "      <th>Province</th>\n",
       "      <th>City</th>\n",
       "      <th>Latitude</th>\n",
       "      <th>Longitude</th>\n",
       "      <th>timestamp</th>\n",
       "      <th>timedifference</th>\n",
       "      <th>POIID</th>\n",
       "      <th>distance_bw_poi</th>\n",
       "      <th>Latitude_poi</th>\n",
       "      <th>Longitude_poi</th>\n",
       "    </tr>\n",
       "  </thead>\n",
       "  <tbody>\n",
       "    <tr>\n",
       "      <th>0</th>\n",
       "      <td>5044035</td>\n",
       "      <td>2017-06-21 00:36:58.600</td>\n",
       "      <td>CA</td>\n",
       "      <td>ON</td>\n",
       "      <td>Waterloo</td>\n",
       "      <td>43.4717</td>\n",
       "      <td>-80.5127</td>\n",
       "      <td>1.498005e+09</td>\n",
       "      <td>2218.457</td>\n",
       "      <td>POI3</td>\n",
       "      <td>596.001489</td>\n",
       "      <td>45.521629</td>\n",
       "      <td>-73.566024</td>\n",
       "    </tr>\n",
       "    <tr>\n",
       "      <th>1</th>\n",
       "      <td>5210735</td>\n",
       "      <td>2017-06-21 00:48:30.550</td>\n",
       "      <td>CA</td>\n",
       "      <td>ON</td>\n",
       "      <td>Waterloo</td>\n",
       "      <td>43.4737</td>\n",
       "      <td>-80.5309</td>\n",
       "      <td>1.498006e+09</td>\n",
       "      <td>2910.407</td>\n",
       "      <td>POI3</td>\n",
       "      <td>597.240651</td>\n",
       "      <td>45.521629</td>\n",
       "      <td>-73.566024</td>\n",
       "    </tr>\n",
       "    <tr>\n",
       "      <th>2</th>\n",
       "      <td>4550872</td>\n",
       "      <td>2017-06-21 01:01:34.483</td>\n",
       "      <td>CA</td>\n",
       "      <td>ON</td>\n",
       "      <td>Waterloo</td>\n",
       "      <td>43.4737</td>\n",
       "      <td>-80.5309</td>\n",
       "      <td>1.498007e+09</td>\n",
       "      <td>3694.340</td>\n",
       "      <td>POI3</td>\n",
       "      <td>597.240651</td>\n",
       "      <td>45.521629</td>\n",
       "      <td>-73.566024</td>\n",
       "    </tr>\n",
       "    <tr>\n",
       "      <th>3</th>\n",
       "      <td>5443472</td>\n",
       "      <td>2017-06-21 01:07:31.170</td>\n",
       "      <td>CA</td>\n",
       "      <td>ON</td>\n",
       "      <td>Waterloo</td>\n",
       "      <td>43.4717</td>\n",
       "      <td>-80.5127</td>\n",
       "      <td>1.498007e+09</td>\n",
       "      <td>4051.027</td>\n",
       "      <td>POI3</td>\n",
       "      <td>596.001489</td>\n",
       "      <td>45.521629</td>\n",
       "      <td>-73.566024</td>\n",
       "    </tr>\n",
       "    <tr>\n",
       "      <th>4</th>\n",
       "      <td>4548869</td>\n",
       "      <td>2017-06-21 02:01:31.370</td>\n",
       "      <td>CA</td>\n",
       "      <td>ON</td>\n",
       "      <td>Waterloo</td>\n",
       "      <td>43.4634</td>\n",
       "      <td>-80.5201</td>\n",
       "      <td>1.498010e+09</td>\n",
       "      <td>7291.227</td>\n",
       "      <td>POI3</td>\n",
       "      <td>596.931914</td>\n",
       "      <td>45.521629</td>\n",
       "      <td>-73.566024</td>\n",
       "    </tr>\n",
       "  </tbody>\n",
       "</table>\n",
       "</div>"
      ],
      "text/plain": [
       "       _ID                   TimeSt Country Province      City  Latitude  \\\n",
       "0  5044035  2017-06-21 00:36:58.600      CA       ON  Waterloo   43.4717   \n",
       "1  5210735  2017-06-21 00:48:30.550      CA       ON  Waterloo   43.4737   \n",
       "2  4550872  2017-06-21 01:01:34.483      CA       ON  Waterloo   43.4737   \n",
       "3  5443472  2017-06-21 01:07:31.170      CA       ON  Waterloo   43.4717   \n",
       "4  4548869  2017-06-21 02:01:31.370      CA       ON  Waterloo   43.4634   \n",
       "\n",
       "   Longitude     timestamp  timedifference POIID  distance_bw_poi  \\\n",
       "0   -80.5127  1.498005e+09        2218.457  POI3       596.001489   \n",
       "1   -80.5309  1.498006e+09        2910.407  POI3       597.240651   \n",
       "2   -80.5309  1.498007e+09        3694.340  POI3       597.240651   \n",
       "3   -80.5127  1.498007e+09        4051.027  POI3       596.001489   \n",
       "4   -80.5201  1.498010e+09        7291.227  POI3       596.931914   \n",
       "\n",
       "   Latitude_poi  Longitude_poi  \n",
       "0     45.521629     -73.566024  \n",
       "1     45.521629     -73.566024  \n",
       "2     45.521629     -73.566024  \n",
       "3     45.521629     -73.566024  \n",
       "4     45.521629     -73.566024  "
      ]
     },
     "execution_count": 42,
     "metadata": {},
     "output_type": "execute_result"
    }
   ],
   "source": [
    "df_final.head()"
   ]
  },
  {
   "cell_type": "code",
   "execution_count": 43,
   "metadata": {},
   "outputs": [],
   "source": [
    "average_distance = df_final.distance_bw_poi.mean()\n",
    "standard_dev_distance = df_final.distance_bw_poi.std()"
   ]
  },
  {
   "cell_type": "code",
   "execution_count": 44,
   "metadata": {},
   "outputs": [],
   "source": [
    "avg_poi = []\n",
    "sd_poi = []\n",
    "df_gr_by = df_final.groupby(by='POIID')\n",
    "\n",
    "for poi, data in df_gr_by:\n",
    "    avg_poi.append({\n",
    "        \"POI\": poi,\n",
    "        \"Average\": data['distance_bw_poi'].mean()\n",
    "    })\n",
    "    \n",
    "    sd_poi.append({\n",
    "        \"POI\": poi,\n",
    "        \"SD\": data['distance_bw_poi'].std()\n",
    "    })"
   ]
  },
  {
   "cell_type": "markdown",
   "metadata": {},
   "source": [
    "# Average and SD per POI"
   ]
  },
  {
   "cell_type": "code",
   "execution_count": 68,
   "metadata": {},
   "outputs": [
    {
     "data": {
      "text/plain": [
       "([{'POI': 'POI1', 'Average': 294.2335020143535},\n",
       "  {'POI': 'POI3', 'Average': 454.30630090857517},\n",
       "  {'POI': 'POI4', 'Average': 519.4480238827263}],\n",
       " [{'POI': 'POI1', 'SD': 416.75486768797316},\n",
       "  {'POI': 'POI3', 'SD': 220.4487437904549},\n",
       "  {'POI': 'POI4', 'SD': 1561.733560361349}])"
      ]
     },
     "execution_count": 68,
     "metadata": {},
     "output_type": "execute_result"
    }
   ],
   "source": [
    "avg_poi, sd_poi"
   ]
  },
  {
   "cell_type": "code",
   "execution_count": 69,
   "metadata": {},
   "outputs": [],
   "source": [
    "# average_distance, standard_dev_distance"
   ]
  },
  {
   "cell_type": "code",
   "execution_count": 71,
   "metadata": {},
   "outputs": [],
   "source": [
    "# np.array(df_poi)"
   ]
  },
  {
   "cell_type": "code",
   "execution_count": 72,
   "metadata": {},
   "outputs": [],
   "source": [
    "centers = np.array(df_poi)"
   ]
  },
  {
   "cell_type": "code",
   "execution_count": 73,
   "metadata": {},
   "outputs": [],
   "source": [
    "# plt.scatter()"
   ]
  },
  {
   "cell_type": "code",
   "execution_count": 74,
   "metadata": {},
   "outputs": [
    {
     "data": {
      "image/png": "[encoded data removed]",
      "text/plain": [
       "<Figure size 1440x1440 with 4 Axes>"
      ]
     },
     "metadata": {
      "needs_background": "light"
     },
     "output_type": "display_data"
    },
    {
     "data": {
      "text/plain": [
       "<Figure size 1440x1440 with 0 Axes>"
      ]
     },
     "metadata": {},
     "output_type": "display_data"
    }
   ],
   "source": [
    "# centers = np.array([[5,18], [3,14], [7,6]])\n",
    "# m, n = make_blobs(n_samples=20, centers=[[5,18], [3,14], [7,6]], n_features=2, \n",
    "# cluster_std = 0.4)\n",
    "fig, ax = plt.subplots(4, figsize=(20, 20))\n",
    "colors = ['g', 'b', 'r', 'm']\n",
    "\n",
    "plt.figure(num=None, figsize=(20,20), facecolor='w', edgecolor='k')\n",
    "\n",
    "for i in range(len(centers)):\n",
    "    if len(df_final[df_final['POIID'] == centers[i, 0]]) > 0:\n",
    "        ax[i].scatter(df_final[df_final['POIID'] == centers[i, 0]]['Latitude'], df_final[df_final['POIID'] == centers[i, 0]]['Longitude'])\n",
    "        ax[i].scatter(centers[i,1], centers[i,2], color = colors[i], marker = 'o', alpha = 0.2, s=max(df_final[df_final['POIID'] == centers[i, 0]]['Longitude'])**2)\n",
    "        ax[i].scatter(centers[i,1], centers[i,2], color = 'k', marker = 'x', s = 100)"
   ]
  },
  {
   "cell_type": "code",
   "execution_count": 75,
   "metadata": {},
   "outputs": [],
   "source": [
    "# centers = np.array([[5,18], [3,14], [7,6]])\n",
    "# m, n = make_blobs(n_samples=20, centers=[[5,18], [3,14], [7,6]], n_features=2, \n",
    "# cluster_std = 0.4)\n",
    "# colors = ['g', 'b', 'r', 'm']\n",
    "\n",
    "# plt.figure(num=None, figsize=(7,6), facecolor='w', edgecolor='k')\n",
    "# plt.scatter(m[:,0], m[:,1])\n",
    "\n",
    "# for i in range(len(centers)):\n",
    "\n",
    "#     plt.scatter(centers[i,0], centers[i,1], color = colors[i], marker = 'o', s = 13000, alpha = 0.2)\n",
    "#     plt.scatter(centers[i,0], centers[i,1], color = 'k', marker = 'x', s = 50)\n"
   ]
  },
  {
   "cell_type": "code",
   "execution_count": 76,
   "metadata": {},
   "outputs": [],
   "source": [
    "# No idea about ARea thing that was mentioned in the prolem, so skipping that"
   ]
  },
  {
   "cell_type": "markdown",
   "metadata": {},
   "source": [
    "# 4a (Normalizing)"
   ]
  },
  {
   "cell_type": "code",
   "execution_count": 58,
   "metadata": {},
   "outputs": [],
   "source": [
    "a, b = -10, 10\n",
    "# Normalizing data\n",
    "df_final['POI_normalized'] = df_final['distance_bw_poi']"
   ]
  },
  {
   "cell_type": "code",
   "execution_count": 59,
   "metadata": {},
   "outputs": [],
   "source": [
    "max_poi_distance = max(df_final['distance_bw_poi'])\n",
    "min_poi_distance = min(df_final['distance_bw_poi'])"
   ]
  },
  {
   "cell_type": "code",
   "execution_count": 60,
   "metadata": {},
   "outputs": [],
   "source": [
    "def normalize_in_range(s):\n",
    "    return ((b - a) * ((s - min_poi_distance)/(max_poi_distance - min_poi_distance))) + a"
   ]
  },
  {
   "cell_type": "code",
   "execution_count": 77,
   "metadata": {},
   "outputs": [],
   "source": [
    "# lower + (upper - lower) * 596.931914\n",
    "\n",
    "# ((b - a) * ((596.931914 - min_poi_distance)/(max_poi_distance - min_poi_distance))) + a"
   ]
  },
  {
   "cell_type": "code",
   "execution_count": 78,
   "metadata": {},
   "outputs": [],
   "source": [
    "# Normalizing POI distances in (-10, 10)\n",
    "df_final['POI_normalized'] = df_final['POI_normalized'].apply(normalize_in_range)"
   ]
  },
  {
   "cell_type": "code",
   "execution_count": 79,
   "metadata": {},
   "outputs": [
    {
     "data": {
      "text/html": [
       "<div>\n",
       "<style scoped>\n",
       "    .dataframe tbody tr th:only-of-type {\n",
       "        vertical-align: middle;\n",
       "    }\n",
       "\n",
       "    .dataframe tbody tr th {\n",
       "        vertical-align: top;\n",
       "    }\n",
       "\n",
       "    .dataframe thead th {\n",
       "        text-align: right;\n",
       "    }\n",
       "</style>\n",
       "<table border=\"1\" class=\"dataframe\">\n",
       "  <thead>\n",
       "    <tr style=\"text-align: right;\">\n",
       "      <th></th>\n",
       "      <th>_ID</th>\n",
       "      <th>TimeSt</th>\n",
       "      <th>Country</th>\n",
       "      <th>Province</th>\n",
       "      <th>City</th>\n",
       "      <th>Latitude</th>\n",
       "      <th>Longitude</th>\n",
       "      <th>timestamp</th>\n",
       "      <th>timedifference</th>\n",
       "      <th>POIID</th>\n",
       "      <th>distance_bw_poi</th>\n",
       "      <th>Latitude_poi</th>\n",
       "      <th>Longitude_poi</th>\n",
       "      <th>POI_normalized</th>\n",
       "    </tr>\n",
       "  </thead>\n",
       "  <tbody>\n",
       "    <tr>\n",
       "      <th>0</th>\n",
       "      <td>5044035</td>\n",
       "      <td>2017-06-21 00:36:58.600</td>\n",
       "      <td>CA</td>\n",
       "      <td>ON</td>\n",
       "      <td>Waterloo</td>\n",
       "      <td>43.4717</td>\n",
       "      <td>-80.5127</td>\n",
       "      <td>1.498005e+09</td>\n",
       "      <td>2218.457</td>\n",
       "      <td>POI3</td>\n",
       "      <td>596.001489</td>\n",
       "      <td>45.521629</td>\n",
       "      <td>-73.566024</td>\n",
       "      <td>-10.016156</td>\n",
       "    </tr>\n",
       "    <tr>\n",
       "      <th>1</th>\n",
       "      <td>5210735</td>\n",
       "      <td>2017-06-21 00:48:30.550</td>\n",
       "      <td>CA</td>\n",
       "      <td>ON</td>\n",
       "      <td>Waterloo</td>\n",
       "      <td>43.4737</td>\n",
       "      <td>-80.5309</td>\n",
       "      <td>1.498006e+09</td>\n",
       "      <td>2910.407</td>\n",
       "      <td>POI3</td>\n",
       "      <td>597.240651</td>\n",
       "      <td>45.521629</td>\n",
       "      <td>-73.566024</td>\n",
       "      <td>-10.016153</td>\n",
       "    </tr>\n",
       "    <tr>\n",
       "      <th>2</th>\n",
       "      <td>4550872</td>\n",
       "      <td>2017-06-21 01:01:34.483</td>\n",
       "      <td>CA</td>\n",
       "      <td>ON</td>\n",
       "      <td>Waterloo</td>\n",
       "      <td>43.4737</td>\n",
       "      <td>-80.5309</td>\n",
       "      <td>1.498007e+09</td>\n",
       "      <td>3694.340</td>\n",
       "      <td>POI3</td>\n",
       "      <td>597.240651</td>\n",
       "      <td>45.521629</td>\n",
       "      <td>-73.566024</td>\n",
       "      <td>-10.016153</td>\n",
       "    </tr>\n",
       "    <tr>\n",
       "      <th>3</th>\n",
       "      <td>5443472</td>\n",
       "      <td>2017-06-21 01:07:31.170</td>\n",
       "      <td>CA</td>\n",
       "      <td>ON</td>\n",
       "      <td>Waterloo</td>\n",
       "      <td>43.4717</td>\n",
       "      <td>-80.5127</td>\n",
       "      <td>1.498007e+09</td>\n",
       "      <td>4051.027</td>\n",
       "      <td>POI3</td>\n",
       "      <td>596.001489</td>\n",
       "      <td>45.521629</td>\n",
       "      <td>-73.566024</td>\n",
       "      <td>-10.016156</td>\n",
       "    </tr>\n",
       "    <tr>\n",
       "      <th>4</th>\n",
       "      <td>4548869</td>\n",
       "      <td>2017-06-21 02:01:31.370</td>\n",
       "      <td>CA</td>\n",
       "      <td>ON</td>\n",
       "      <td>Waterloo</td>\n",
       "      <td>43.4634</td>\n",
       "      <td>-80.5201</td>\n",
       "      <td>1.498010e+09</td>\n",
       "      <td>7291.227</td>\n",
       "      <td>POI3</td>\n",
       "      <td>596.931914</td>\n",
       "      <td>45.521629</td>\n",
       "      <td>-73.566024</td>\n",
       "      <td>-10.016154</td>\n",
       "    </tr>\n",
       "  </tbody>\n",
       "</table>\n",
       "</div>"
      ],
      "text/plain": [
       "       _ID                   TimeSt Country Province      City  Latitude  \\\n",
       "0  5044035  2017-06-21 00:36:58.600      CA       ON  Waterloo   43.4717   \n",
       "1  5210735  2017-06-21 00:48:30.550      CA       ON  Waterloo   43.4737   \n",
       "2  4550872  2017-06-21 01:01:34.483      CA       ON  Waterloo   43.4737   \n",
       "3  5443472  2017-06-21 01:07:31.170      CA       ON  Waterloo   43.4717   \n",
       "4  4548869  2017-06-21 02:01:31.370      CA       ON  Waterloo   43.4634   \n",
       "\n",
       "   Longitude     timestamp  timedifference POIID  distance_bw_poi  \\\n",
       "0   -80.5127  1.498005e+09        2218.457  POI3       596.001489   \n",
       "1   -80.5309  1.498006e+09        2910.407  POI3       597.240651   \n",
       "2   -80.5309  1.498007e+09        3694.340  POI3       597.240651   \n",
       "3   -80.5127  1.498007e+09        4051.027  POI3       596.001489   \n",
       "4   -80.5201  1.498010e+09        7291.227  POI3       596.931914   \n",
       "\n",
       "   Latitude_poi  Longitude_poi  POI_normalized  \n",
       "0     45.521629     -73.566024      -10.016156  \n",
       "1     45.521629     -73.566024      -10.016153  \n",
       "2     45.521629     -73.566024      -10.016153  \n",
       "3     45.521629     -73.566024      -10.016156  \n",
       "4     45.521629     -73.566024      -10.016154  "
      ]
     },
     "execution_count": 79,
     "metadata": {},
     "output_type": "execute_result"
    }
   ],
   "source": [
    "df_final.head()"
   ]
  },
  {
   "cell_type": "code",
   "execution_count": 80,
   "metadata": {},
   "outputs": [
    {
     "data": {
      "text/html": [
       "<div>\n",
       "<style scoped>\n",
       "    .dataframe tbody tr th:only-of-type {\n",
       "        vertical-align: middle;\n",
       "    }\n",
       "\n",
       "    .dataframe tbody tr th {\n",
       "        vertical-align: top;\n",
       "    }\n",
       "\n",
       "    .dataframe thead th {\n",
       "        text-align: right;\n",
       "    }\n",
       "</style>\n",
       "<table border=\"1\" class=\"dataframe\">\n",
       "  <thead>\n",
       "    <tr style=\"text-align: right;\">\n",
       "      <th></th>\n",
       "      <th>_ID</th>\n",
       "      <th>TimeSt</th>\n",
       "      <th>Country</th>\n",
       "      <th>Province</th>\n",
       "      <th>City</th>\n",
       "      <th>Latitude</th>\n",
       "      <th>Longitude</th>\n",
       "      <th>timestamp</th>\n",
       "      <th>timedifference</th>\n",
       "      <th>POIID</th>\n",
       "      <th>distance_bw_poi</th>\n",
       "      <th>Latitude_poi</th>\n",
       "      <th>Longitude_poi</th>\n",
       "      <th>POI_normalized</th>\n",
       "    </tr>\n",
       "  </thead>\n",
       "  <tbody>\n",
       "    <tr>\n",
       "      <th>10875</th>\n",
       "      <td>5403290</td>\n",
       "      <td>2017-06-21 00:03:15.060</td>\n",
       "      <td>CA</td>\n",
       "      <td>SK</td>\n",
       "      <td>Saskatoon</td>\n",
       "      <td>52.12250</td>\n",
       "      <td>-106.72488</td>\n",
       "      <td>1.498003e+09</td>\n",
       "      <td>116.667</td>\n",
       "      <td>POI1</td>\n",
       "      <td>480.734450</td>\n",
       "      <td>53.546167</td>\n",
       "      <td>-113.485734</td>\n",
       "      <td>-10.016503</td>\n",
       "    </tr>\n",
       "    <tr>\n",
       "      <th>10876</th>\n",
       "      <td>5481803</td>\n",
       "      <td>2017-06-21 00:11:29.930</td>\n",
       "      <td>CA</td>\n",
       "      <td>SK</td>\n",
       "      <td>Saskatoon</td>\n",
       "      <td>52.09253</td>\n",
       "      <td>-106.58595</td>\n",
       "      <td>1.498004e+09</td>\n",
       "      <td>611.537</td>\n",
       "      <td>POI1</td>\n",
       "      <td>490.780661</td>\n",
       "      <td>53.546167</td>\n",
       "      <td>-113.485734</td>\n",
       "      <td>-10.016473</td>\n",
       "    </tr>\n",
       "    <tr>\n",
       "      <th>10877</th>\n",
       "      <td>5527288</td>\n",
       "      <td>2017-06-21 00:15:48.063</td>\n",
       "      <td>CA</td>\n",
       "      <td>SK</td>\n",
       "      <td>Saskatoon</td>\n",
       "      <td>52.12180</td>\n",
       "      <td>-106.64500</td>\n",
       "      <td>1.498004e+09</td>\n",
       "      <td>869.670</td>\n",
       "      <td>POI1</td>\n",
       "      <td>485.826658</td>\n",
       "      <td>53.546167</td>\n",
       "      <td>-113.485734</td>\n",
       "      <td>-10.016488</td>\n",
       "    </tr>\n",
       "    <tr>\n",
       "      <th>10878</th>\n",
       "      <td>5527357</td>\n",
       "      <td>2017-06-21 00:15:48.063</td>\n",
       "      <td>CA</td>\n",
       "      <td>SK</td>\n",
       "      <td>Saskatoon</td>\n",
       "      <td>52.12180</td>\n",
       "      <td>-106.64500</td>\n",
       "      <td>1.498004e+09</td>\n",
       "      <td>869.670</td>\n",
       "      <td>POI1</td>\n",
       "      <td>485.826658</td>\n",
       "      <td>53.546167</td>\n",
       "      <td>-113.485734</td>\n",
       "      <td>-10.016488</td>\n",
       "    </tr>\n",
       "    <tr>\n",
       "      <th>10879</th>\n",
       "      <td>4771232</td>\n",
       "      <td>2017-06-21 00:16:47.017</td>\n",
       "      <td>CA</td>\n",
       "      <td>SK</td>\n",
       "      <td>Saskatoon</td>\n",
       "      <td>52.13270</td>\n",
       "      <td>-106.65700</td>\n",
       "      <td>1.498004e+09</td>\n",
       "      <td>928.624</td>\n",
       "      <td>POI1</td>\n",
       "      <td>484.617844</td>\n",
       "      <td>53.546167</td>\n",
       "      <td>-113.485734</td>\n",
       "      <td>-10.016491</td>\n",
       "    </tr>\n",
       "  </tbody>\n",
       "</table>\n",
       "</div>"
      ],
      "text/plain": [
       "           _ID                   TimeSt Country Province       City  Latitude  \\\n",
       "10875  5403290  2017-06-21 00:03:15.060      CA       SK  Saskatoon  52.12250   \n",
       "10876  5481803  2017-06-21 00:11:29.930      CA       SK  Saskatoon  52.09253   \n",
       "10877  5527288  2017-06-21 00:15:48.063      CA       SK  Saskatoon  52.12180   \n",
       "10878  5527357  2017-06-21 00:15:48.063      CA       SK  Saskatoon  52.12180   \n",
       "10879  4771232  2017-06-21 00:16:47.017      CA       SK  Saskatoon  52.13270   \n",
       "\n",
       "       Longitude     timestamp  timedifference POIID  distance_bw_poi  \\\n",
       "10875 -106.72488  1.498003e+09         116.667  POI1       480.734450   \n",
       "10876 -106.58595  1.498004e+09         611.537  POI1       490.780661   \n",
       "10877 -106.64500  1.498004e+09         869.670  POI1       485.826658   \n",
       "10878 -106.64500  1.498004e+09         869.670  POI1       485.826658   \n",
       "10879 -106.65700  1.498004e+09         928.624  POI1       484.617844   \n",
       "\n",
       "       Latitude_poi  Longitude_poi  POI_normalized  \n",
       "10875     53.546167    -113.485734      -10.016503  \n",
       "10876     53.546167    -113.485734      -10.016473  \n",
       "10877     53.546167    -113.485734      -10.016488  \n",
       "10878     53.546167    -113.485734      -10.016488  \n",
       "10879     53.546167    -113.485734      -10.016491  "
      ]
     },
     "execution_count": 80,
     "metadata": {},
     "output_type": "execute_result"
    }
   ],
   "source": [
    "df_final[df_final['POIID'] == 'POI1'].head()"
   ]
  },
  {
   "cell_type": "code",
   "execution_count": 81,
   "metadata": {},
   "outputs": [],
   "source": [
    "colors = {'POI1':\"R\", 'POI2':\"Blue\", 'POI3':\"Y\", \"POI4\": \"Green\"}\n",
    "# c = [\"Y\", \"R\", \"B\"]"
   ]
  },
  {
   "cell_type": "code",
   "execution_count": 82,
   "metadata": {},
   "outputs": [],
   "source": [
    "# fig, ax = plt.subplots(figsize=(10, 6))\n",
    "# ax.scatter(x = df_final['POI_normalized'], y = df_final['POI_normalized'])\n",
    "# plt.xlabel(\"Living Area Above Ground\")\n",
    "# plt.ylabel(\"House Price\")\n",
    "\n",
    "# plt.show()"
   ]
  },
  {
   "cell_type": "code",
   "execution_count": 83,
   "metadata": {},
   "outputs": [
    {
     "name": "stdout",
     "output_type": "stream",
     "text": [
      "POI1 R\n",
      "POI2 Blue\n",
      "POI3 Y\n",
      "POI4 Green\n"
     ]
    },
    {
     "data": {
      "image/png": "[encoded data removed]",
      "text/plain": [
       "<Figure size 720x432 with 1 Axes>"
      ]
     },
     "metadata": {
      "needs_background": "light"
     },
     "output_type": "display_data"
    }
   ],
   "source": [
    "fig, ax = plt.subplots(figsize=(10, 6))\n",
    "\n",
    "for color in colors:\n",
    "    print(color, colors[color])\n",
    "    ax.scatter(y = df_final[df_final['POIID'] == color]['Latitude'], x = df_final[df_final['POIID'] == color]['Longitude_poi'],\n",
    "               c=colors[color])\n",
    "    "
   ]
  },
  {
   "cell_type": "code",
   "execution_count": 84,
   "metadata": {},
   "outputs": [],
   "source": [
    "# Honestly, Dont have much experience in hypothesis testing. So, skipping that too."
   ]
  },
  {
   "cell_type": "code",
   "execution_count": null,
   "metadata": {},
   "outputs": [],
   "source": []
  }
 ],
 "metadata": {
  "kernelspec": {
   "display_name": "Python 3",
   "language": "python",
   "name": "python3"
  },
  "language_info": {
   "codemirror_mode": {
    "name": "ipython",
    "version": 3
   },
   "file_extension": ".py",
   "mimetype": "text/x-python",
   "name": "python",
   "nbconvert_exporter": "python",
   "pygments_lexer": "ipython3",
   "version": "3.8.3"
  }
 },
 "nbformat": 4,
 "nbformat_minor": 4
}
